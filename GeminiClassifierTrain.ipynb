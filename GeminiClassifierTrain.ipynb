{
 "cells": [
  {
   "cell_type": "code",
   "execution_count": 1,
   "id": "0dca3dde-a583-446a-afd0-c014b6369b9c",
   "metadata": {},
   "outputs": [],
   "source": [
    "# ! pip install -q google-generativeai pandas"
   ]
  },
  {
   "cell_type": "code",
   "execution_count": 2,
   "id": "a86b0ae9-62e1-422c-ad2b-f1f977b38a0c",
   "metadata": {},
   "outputs": [],
   "source": [
    "import google.generativeai as genai\n",
    "import import_ipynb\n",
    "import pandas as pd\n",
    "from Utils import build_training_set\n",
    "from sklearn.metrics import accuracy_score\n",
    "import json\n",
    "import time"
   ]
  },
  {
   "cell_type": "markdown",
   "id": "50a23a15-1736-428d-8674-9db3d0688311",
   "metadata": {},
   "source": [
    "# Configure GOOGLE_API_KEY"
   ]
  },
  {
   "cell_type": "code",
   "execution_count": 3,
   "id": "5c94a402-e2e9-4fed-8386-0a9c90391e72",
   "metadata": {},
   "outputs": [],
   "source": [
    "# Load JSON file\n",
    "with open('secrets.json', 'r') as file:\n",
    "    secrets = json.load(file)\n",
    "\n",
    "GEMINI_API_KEY = secrets[\"GOOGLE_API_KEY\"]\n",
    "\n",
    "# Configure Gemini API Key\n",
    "genai.configure(api_key=GEMINI_API_KEY)\n"
   ]
  },
  {
   "cell_type": "markdown",
   "id": "2c8980ac-4baf-43f2-9c69-d5c19839ee3e",
   "metadata": {},
   "source": [
    "# Train model"
   ]
  },
  {
   "cell_type": "markdown",
   "id": "aecfd729-9f65-461e-b240-e51c27036cee",
   "metadata": {},
   "source": [
    "#### Chunk size = 512, Sentence alignment = False"
   ]
  },
  {
   "cell_type": "code",
   "execution_count": 4,
   "id": "d78efd8b-9e7d-4224-b82a-559839f973e7",
   "metadata": {},
   "outputs": [
    {
     "name": "stdout",
     "output_type": "stream",
     "text": [
      "Classification Accuracy: 57.00%\n",
      "Classification complete! Results saved as 'gemini_classified_texts.csv'.\n"
     ]
    }
   ],
   "source": [
    "# Load dataset\n",
    "num_cases = 300\n",
    "chunk_size = 512\n",
    "use_title = False\n",
    "respect_sentence_boundaries = False\n",
    "\n",
    "df_sampled = build_training_set(num_cases, chunk_size, use_title, respect_sentence_boundaries)\n",
    "\n",
    "# Extract unique categories\n",
    "categories = df_sampled[\"Category\"].unique()\n",
    "categories_str = \", \".join(categories)\n",
    "\n",
    "# Initialize Gemini model\n",
    "model = genai.GenerativeModel(\"gemini-pro\")\n",
    "\n",
    "# Define classification function\n",
    "def classify_text(text):\n",
    "    prompt = f\"\"\"\n",
    "    You are an AI assistant trained for text classification. Categorize the given text into one of the following categories:\n",
    "    {categories_str}.\n",
    "    \n",
    "    Text: \"{text}\"\n",
    "    \n",
    "    Respond only with the category name.\n",
    "    \"\"\"\n",
    "    response = model.generate_content(prompt)\n",
    "    time.sleep(6)\n",
    "    return response.text.strip() if response.text else \"Unknown\"\n",
    "\n",
    "# Apply classification to dataset\n",
    "df_sampled[\"Predicted_Category\"] = df_sampled[\"Chunk\"].apply(classify_text)\n",
    "\n",
    "# Calculate accuracy\n",
    "accuracy = accuracy_score(df_sampled[\"Category\"], df_sampled[\"Predicted_Category\"])\n",
    "print(f\"Classification Accuracy: {accuracy:.2%}\")\n",
    "\n",
    "# Save results locally\n",
    "df_sampled.to_csv(\"gemini_classified_texts.csv\", index=False)\n",
    "print(\"Classification complete! Results saved as 'gemini_classified_texts.csv'.\")"
   ]
  },
  {
   "cell_type": "markdown",
   "id": "0c916147-c76f-4cd6-b80a-0fa2430cd7fc",
   "metadata": {},
   "source": [
    "Classification Accuracy: 57.00%\n",
    "Classification complete! Results saved as 'gemini_classified_texts.csv'.\n"
   ]
  },
  {
   "cell_type": "markdown",
   "id": "5bbb299f-6dbd-4cae-bcc4-6f1157800f9e",
   "metadata": {},
   "source": [
    "#### Chunk size = 512, Sentence alignment = True"
   ]
  },
  {
   "cell_type": "code",
   "execution_count": 7,
   "id": "fedacd0a-ad8a-4713-a4b2-83fb25a2aa0d",
   "metadata": {},
   "outputs": [
    {
     "name": "stdout",
     "output_type": "stream",
     "text": [
      "Classification Accuracy: 60.00%\n",
      "Classification complete! Results saved as 'gemini_classified_texts_sentence_alignment_true.csv'.\n"
     ]
    }
   ],
   "source": [
    "# Load dataset\n",
    "num_cases = 300\n",
    "chunk_size = 512\n",
    "use_title = False\n",
    "respect_sentence_boundaries = True\n",
    "\n",
    "df_sampled = build_training_set(num_cases, chunk_size, use_title, respect_sentence_boundaries)\n",
    "\n",
    "# Extract unique categories\n",
    "categories = df_sampled[\"Category\"].unique()\n",
    "categories_str = \", \".join(categories)\n",
    "\n",
    "# Initialize Gemini model\n",
    "model = genai.GenerativeModel(\"gemini-pro\")\n",
    "\n",
    "# Define classification function\n",
    "def classify_text(text):\n",
    "    prompt = f\"\"\"\n",
    "    You are an AI assistant trained for text classification. Categorize the given text into one of the following categories:\n",
    "    {categories_str}.\n",
    "    \n",
    "    Text: \"{text}\"\n",
    "    \n",
    "    Respond only with the category name.\n",
    "    \"\"\"\n",
    "    response = model.generate_content(prompt)\n",
    "    time.sleep(6)\n",
    "    return response.text.strip() if response.text else \"Unknown\"\n",
    "\n",
    "# Apply classification to dataset\n",
    "df_sampled[\"Predicted_Category\"] = df_sampled[\"Chunk\"].apply(classify_text)\n",
    "\n",
    "# Calculate accuracy\n",
    "accuracy = accuracy_score(df_sampled[\"Category\"], df_sampled[\"Predicted_Category\"])\n",
    "print(f\"Classification Accuracy: {accuracy:.2%}\")\n",
    "\n",
    "# Save results locally\n",
    "df_sampled.to_csv(\"gemini_classified_texts_sentence_alignment_true.csv\", index=False)\n",
    "print(\"Classification complete! Results saved as 'gemini_classified_texts_sentence_alignment_true.csv'.\")"
   ]
  },
  {
   "cell_type": "markdown",
   "id": "2ddcf36c-67ab-447e-b9d8-08a617022695",
   "metadata": {},
   "source": [
    "Classification Accuracy: 60.00%\n",
    "Classification complete! Results saved as 'gemini_classified_texts_sentence_alignment_true.csv'."
   ]
  },
  {
   "cell_type": "code",
   "execution_count": null,
   "id": "3f31af87-525c-4d45-bb03-258e9ca321cb",
   "metadata": {},
   "outputs": [],
   "source": []
  },
  {
   "cell_type": "code",
   "execution_count": null,
   "id": "f5091682-eb33-4b16-89cf-bab6c7fa73e4",
   "metadata": {},
   "outputs": [],
   "source": []
  },
  {
   "cell_type": "code",
   "execution_count": null,
   "id": "0e9c8574-1b5f-4a3d-ae5d-8819ad682683",
   "metadata": {},
   "outputs": [],
   "source": []
  },
  {
   "cell_type": "code",
   "execution_count": null,
   "id": "8983d64a-f902-4bda-8373-f04ca2205223",
   "metadata": {},
   "outputs": [],
   "source": []
  }
 ],
 "metadata": {
  "kernelspec": {
   "display_name": "Python 3 (ipykernel)",
   "language": "python",
   "name": "python3"
  },
  "language_info": {
   "codemirror_mode": {
    "name": "ipython",
    "version": 3
   },
   "file_extension": ".py",
   "mimetype": "text/x-python",
   "name": "python",
   "nbconvert_exporter": "python",
   "pygments_lexer": "ipython3",
   "version": "3.10.12"
  }
 },
 "nbformat": 4,
 "nbformat_minor": 5
}
