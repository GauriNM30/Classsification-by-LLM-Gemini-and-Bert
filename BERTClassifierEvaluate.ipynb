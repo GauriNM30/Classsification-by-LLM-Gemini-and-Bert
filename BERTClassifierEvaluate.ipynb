{
 "cells": [
  {
   "cell_type": "markdown",
   "id": "7bd3d0a1",
   "metadata": {},
   "source": [
    "# Hugging Face Model Evaluation Notebook"
   ]
  },
  {
   "cell_type": "markdown",
   "id": "b25d5347-66b1-4e17-9a6c-4c2e5e0e11d9",
   "metadata": {},
   "source": [
    "#### Evaluating uploaded Hugging face model"
   ]
  },
  {
   "cell_type": "code",
   "execution_count": 16,
   "id": "1c4068ac",
   "metadata": {},
   "outputs": [
    {
     "name": "stdout",
     "output_type": "stream",
     "text": [
      "Predicted Category: Philosophy\n"
     ]
    }
   ],
   "source": [
    "import torch\n",
    "from transformers import DistilBertTokenizerFast, DistilBertForSequenceClassification\n",
    "import import_ipynb\n",
    "from Utils import extract_chunk\n",
    "import json\n",
    "import os\n",
    "\n",
    "# Load JSON file\n",
    "with open('BERT_best_model_parameters.json', 'r') as file:\n",
    "    best_hyperparameters = json.load(file)\n",
    "\n",
    "CHUNK_SIZE = best_hyperparameters[\"CHUNK_SIZE\"]\n",
    "SENTENCE_ALIGNMENT = best_hyperparameters[\"SENTENCE_ALIGNMENT\"]\n",
    "\n",
    "CATEGORY_MAP = {\n",
    "    'Philosophy',\n",
    "    'Geography',\n",
    "    'Social Sciences',\n",
    "    'Politics'\n",
    "}\n",
    "\n",
    "# Load the trained model and tokenizer\n",
    "model_path = './distilbert_text_classification_multiclass_512'\n",
    "tokenizer = DistilBertTokenizerFast.from_pretrained(model_path)\n",
    "model = DistilBertForSequenceClassification.from_pretrained(model_path)\n",
    "\n",
    "# Move model to the correct device (GPU if available, otherwise CPU)\n",
    "device = torch.device(\"cuda\" if torch.cuda.is_available() else \"cpu\")\n",
    "model.to(device)\n",
    "model.eval()  # Set model to evaluation mode\n",
    "\n",
    "# Define category mapping (same as during training)\n",
    "category_to_int = {cat: idx for idx, cat in enumerate(CATEGORY_MAP)}\n",
    "int_to_category = {v: k for k, v in category_to_int.items()}\n",
    "\n",
    "# Function to predict category\n",
    "def predict_category(text):\n",
    "    inputs = tokenizer(text, padding=\"max_length\", truncation=True, max_length=512, return_tensors=\"pt\")\n",
    "    inputs = {key: value.to(device) for key, value in inputs.items()}  # Move input to correct device\n",
    "\n",
    "    with torch.no_grad():  # Disable gradient calculations for inference\n",
    "        outputs = model(**inputs)\n",
    "        logits = outputs.logits\n",
    "        predicted_class = torch.argmax(logits, dim=1).item()  # Get predicted class index\n",
    "    \n",
    "    return int_to_category[predicted_class]\n",
    "\n",
    "# Test with a sample text\n",
    "# Load a test document from the Documents folder\n",
    "DOCUMENTS_DIR = \"Documents\"  # Folder containing text documents\n",
    "doc_id = \"000115\"  # Replace with an actual DocID from your dataset\n",
    "doc_path = os.path.join(DOCUMENTS_DIR, f\"{doc_id}.txt\")\n",
    "\n",
    "if os.path.exists(doc_path):\n",
    "    with open(doc_path, \"r\", encoding=\"utf-8\") as file:\n",
    "        sample_text = file.read()\n",
    "sample_text = extract_chunk(sample_text, CHUNK_SIZE, SENTENCE_ALIGNMENT)\n",
    "predicted_label = predict_category(sample_text)\n",
    "print(f\"Predicted Category: {predicted_label}\")\n"
   ]
  },
  {
   "cell_type": "code",
   "execution_count": null,
   "id": "2c38255e-26d5-4e00-baf0-b9b2943ac77d",
   "metadata": {},
   "outputs": [],
   "source": []
  },
  {
   "cell_type": "code",
   "execution_count": null,
   "id": "a3c10d94-cbaf-4a46-8105-25914f20bf8b",
   "metadata": {},
   "outputs": [],
   "source": []
  },
  {
   "cell_type": "markdown",
   "id": "a69dc5f9-8e9d-48c2-aced-a72cca3f2d2e",
   "metadata": {},
   "source": [
    "#### Evaluating uploaded Hugging face model"
   ]
  },
  {
   "cell_type": "code",
   "execution_count": 17,
   "id": "42b98b14",
   "metadata": {},
   "outputs": [
    {
     "name": "stdout",
     "output_type": "stream",
     "text": [
      "Predicted Category: Philosophy\n"
     ]
    }
   ],
   "source": [
    "import torch\n",
    "from transformers import DistilBertTokenizerFast, DistilBertForSequenceClassification\n",
    "import import_ipynb\n",
    "from Utils import extract_chunk\n",
    "import json\n",
    "import os\n",
    "\n",
    "# Load JSON file\n",
    "with open('BERT_best_model_parameters.json', 'r') as file:\n",
    "    best_hyperparameters = json.load(file)\n",
    "\n",
    "CHUNK_SIZE = best_hyperparameters[\"CHUNK_SIZE\"]\n",
    "SENTENCE_ALIGNMENT = best_hyperparameters[\"SENTENCE_ALIGNMENT\"]\n",
    "\n",
    "CATEGORY_MAP = {\n",
    "    'Philosophy',\n",
    "    'Geography',\n",
    "    'Social Sciences',\n",
    "    'Politics'\n",
    "}\n",
    "\n",
    "# Load the tokenizer and model from Hugging Face\n",
    "model_name = 'gaurinm30/distilbert_text_classification_multiclass_512'\n",
    "tokenizer = DistilBertTokenizerFast.from_pretrained(model_name)\n",
    "model = DistilBertForSequenceClassification.from_pretrained(model_name)\n",
    "\n",
    "# Move model to the correct device (GPU if available, otherwise CPU)\n",
    "device = torch.device(\"cuda\" if torch.cuda.is_available() else \"cpu\")\n",
    "model.to(device)\n",
    "model.eval()  # Set model to evaluation mode\n",
    "\n",
    "# Define category mapping (same as during training)\n",
    "category_to_int = {cat: idx for idx, cat in enumerate(CATEGORY_MAP)}\n",
    "int_to_category = {v: k for k, v in category_to_int.items()}\n",
    "\n",
    "# Function to predict category\n",
    "def predict_category(text):\n",
    "    inputs = tokenizer(text, padding=\"max_length\", truncation=True, max_length=512, return_tensors=\"pt\")\n",
    "    inputs = {key: value.to(device) for key, value in inputs.items()}  # Move input to correct device\n",
    "\n",
    "    with torch.no_grad():  # Disable gradient calculations for inference\n",
    "        outputs = model(**inputs)\n",
    "        logits = outputs.logits\n",
    "        predicted_class = torch.argmax(logits, dim=1).item()  # Get predicted class index\n",
    "    \n",
    "    return int_to_category[predicted_class]\n",
    "\n",
    "# Test with a sample text\n",
    "# Load a test document from the Documents folder\n",
    "DOCUMENTS_DIR = \"Documents\"  # Folder containing text documents\n",
    "doc_id = \"000115\"  # Replace with an actual DocID from your dataset\n",
    "doc_path = os.path.join(DOCUMENTS_DIR, f\"{doc_id}.txt\")\n",
    "\n",
    "if os.path.exists(doc_path):\n",
    "    with open(doc_path, \"r\", encoding=\"utf-8\") as file:\n",
    "        sample_text = file.read()\n",
    "sample_text = extract_chunk(sample_text, CHUNK_SIZE, SENTENCE_ALIGNMENT)\n",
    "predicted_label = predict_category(sample_text)\n",
    "print(f\"Predicted Category: {predicted_label}\")\n"
   ]
  },
  {
   "cell_type": "code",
   "execution_count": null,
   "id": "6c13de17-f7a8-4f59-aab3-658839619dc1",
   "metadata": {},
   "outputs": [],
   "source": []
  }
 ],
 "metadata": {
  "kernelspec": {
   "display_name": "Python 3 (ipykernel)",
   "language": "python",
   "name": "python3"
  },
  "language_info": {
   "codemirror_mode": {
    "name": "ipython",
    "version": 3
   },
   "file_extension": ".py",
   "mimetype": "text/x-python",
   "name": "python",
   "nbconvert_exporter": "python",
   "pygments_lexer": "ipython3",
   "version": "3.10.12"
  }
 },
 "nbformat": 4,
 "nbformat_minor": 5
}
