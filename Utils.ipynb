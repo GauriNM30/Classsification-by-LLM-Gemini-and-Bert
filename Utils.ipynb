{
 "cells": [
  {
   "cell_type": "code",
   "execution_count": 1,
   "id": "3fa0abc3",
   "metadata": {},
   "outputs": [],
   "source": [
    "import pandas as pd"
   ]
  },
  {
   "cell_type": "code",
   "execution_count": 2,
   "id": "114f8af1",
   "metadata": {},
   "outputs": [],
   "source": [
    "CORPUS_LOCATION = \".\"\n",
    "DOCUMENTS_LOCATION = f\"{CORPUS_LOCATION}/Documents\"\n",
    "NUM_CASES = 100\n",
    "CHUNK_SIZE = 500\n",
    "\n",
    "CATEGORY_MAP = {\n",
    "    'B': 'Philosophy',\n",
    "    'G': 'Geography',\n",
    "    'H': 'Social Sciences',\n",
    "    'J': 'Politics'\n",
    "}"
   ]
  },
  {
   "cell_type": "code",
   "execution_count": 3,
   "id": "7de8fb85",
   "metadata": {},
   "outputs": [],
   "source": [
    "import re\n",
    "\n",
    "def get_text(docid):\n",
    "    with open(DOCUMENTS_LOCATION + '/' + docid + '.txt', 'r', encoding='utf-8') as file:\n",
    "        text = file.read()\n",
    "\n",
    "    # Remove newlines entirely, replace extra spaces with a single space, and strip leading/trailing spaces\n",
    "    text = re.sub(r'\\n+', '', text)  # Remove all newline characters\n",
    "    text = re.sub(r'\\s+', ' ', text).strip()  # Replace multiple spaces with a single space\n",
    "\n",
    "    return text"
   ]
  },
  {
   "cell_type": "code",
   "execution_count": 11,
   "id": "6f8137e9",
   "metadata": {},
   "outputs": [],
   "source": [
    "def build_training_set(corpus_location, num_cases, chunk_size=100, use_title=False, repect_sentence_boundaries=False):\n",
    "    # Read the CSV file\n",
    "    df_full = pd.read_csv(f\"{CORPUS_LOCATION}/docid_category.csv\")\n",
    "\n",
    "    # Convert 'Category' column values using CATEGORY_MAP\n",
    "    df_full[\"Category\"] = df_full[\"Category\"].map(CATEGORY_MAP)\n",
    "    df_full.drop(columns=[\"Authors\", \"Title\"], inplace=True)\n",
    "    # Ensure 'DocID' is a string and pad it with zeros to make it 6 digits\n",
    "    df_full[\"DocID\"] = df_full.DocID.apply(lambda docid: str(int(docid)).zfill(6) )\n",
    "    \n",
    "    # Select random documents based on NUM_CASES\n",
    "    df_sampled = df_full.sample(NUM_CASES)\n",
    "    # Get text from Documents using DocID\n",
    "    df_sampled[\"Text\"] = df_sampled['DocID'].apply(get_text)\n",
    "    # Create chunks\n",
    "    df_sampled[\"Chunk\"] = df_sampled.Text.apply(lambda t: extract_chunk(t, CHUNK_SIZE, repect_sentence_boundaries))\n",
    "    df_sampled.drop(columns=[\"Text\"], inplace=True)\n",
    "    return df_sampled"
   ]
  },
  {
   "cell_type": "code",
   "execution_count": 7,
   "id": "6ae0d899",
   "metadata": {},
   "outputs": [],
   "source": [
    "import random\n",
    "\n",
    "def extract_chunk(text, chunk_length, respect_sentence_boundaries=False):\n",
    "    if not text or len(text) <= chunk_length:\n",
    "        return text  # Return the whole text if it's too short\n",
    "    \n",
    "    if respect_sentence_boundaries:\n",
    "        # Find all sentence boundaries using regex (detects ., !, ? followed by space or end of string)\n",
    "        sentences = re.split(r'(?<=[.!?])\\s+', text)\n",
    "        \n",
    "        # Keep selecting random sentences until we reach the required chunk size\n",
    "        chunk = []\n",
    "        current_length = 0\n",
    "        \n",
    "        while current_length <= chunk_length and sentences:\n",
    "            sentence = sentences.pop(0)\n",
    "            if (current_length + len(sentence) + 1) > chunk_length:\n",
    "                break\n",
    "            current_length += len(sentence) + 1  # +1 for space\n",
    "            chunk.append(sentence)\n",
    "            \n",
    "        \n",
    "        return \" \".join(chunk).strip()\n",
    "\n",
    "    # If not respecting sentence boundaries, pick a random substring\n",
    "    docpos = random.randrange(len(text) - chunk_length)\n",
    "    return text[docpos:docpos + chunk_length]"
   ]
  },
  {
   "cell_type": "code",
   "execution_count": null,
   "id": "e4a99c11",
   "metadata": {},
   "outputs": [],
   "source": []
  }
 ],
 "metadata": {
  "kernelspec": {
   "display_name": "Python 3 (ipykernel)",
   "language": "python",
   "name": "python3"
  },
  "language_info": {
   "codemirror_mode": {
    "name": "ipython",
    "version": 3
   },
   "file_extension": ".py",
   "mimetype": "text/x-python",
   "name": "python",
   "nbconvert_exporter": "python",
   "pygments_lexer": "ipython3",
   "version": "3.9.13"
  }
 },
 "nbformat": 4,
 "nbformat_minor": 5
}
